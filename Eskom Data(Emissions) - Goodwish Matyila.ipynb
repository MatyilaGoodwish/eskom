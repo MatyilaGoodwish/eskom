{
 "cells": [
  {
   "cell_type": "markdown",
   "metadata": {},
   "source": [
    "# ANALYSING ESKOM DATA"
   ]
  },
  {
   "cell_type": "code",
   "execution_count": 4,
   "metadata": {},
   "outputs": [],
   "source": [
    "import numpy as np\n",
    "\n",
    "import pandas as pd\n",
    "\n",
    "import matplotlib.pyplot as plt\n",
    "\n",
    "import seaborn as sns\n",
    "\n",
    "%matplotlib inline\n"
   ]
  },
  {
   "cell_type": "code",
   "execution_count": 5,
   "metadata": {},
   "outputs": [],
   "source": [
    "#read in the datasets from eskom \n",
    "df = pd.read_csv(\"http://energydata.uct.ac.za/dataset/1686db16-9c41-4ab9-bca0-0d2f6db70d54/resource/41182bf2-cb33-4819-b6e9-752a8594b801/download/eskom-table-table-4.csv\")"
   ]
  },
  {
   "cell_type": "code",
   "execution_count": 6,
   "metadata": {},
   "outputs": [
    {
     "data": {
      "text/html": [
       "<div>\n",
       "<style scoped>\n",
       "    .dataframe tbody tr th:only-of-type {\n",
       "        vertical-align: middle;\n",
       "    }\n",
       "\n",
       "    .dataframe tbody tr th {\n",
       "        vertical-align: top;\n",
       "    }\n",
       "\n",
       "    .dataframe thead th {\n",
       "        text-align: right;\n",
       "    }\n",
       "</style>\n",
       "<table border=\"1\" class=\"dataframe\">\n",
       "  <thead>\n",
       "    <tr style=\"text-align: right;\">\n",
       "      <th></th>\n",
       "      <th>Environmental Factor</th>\n",
       "      <th>Factor</th>\n",
       "      <th>kWh</th>\n",
       "      <th>MWh</th>\n",
       "      <th>GWh</th>\n",
       "      <th>TWh</th>\n",
       "    </tr>\n",
       "  </thead>\n",
       "  <tbody>\n",
       "    <tr>\n",
       "      <td>0</td>\n",
       "      <td>Coal use</td>\n",
       "      <td>0.54</td>\n",
       "      <td>kilogram</td>\n",
       "      <td>ton</td>\n",
       "      <td>thousand tons (kt)</td>\n",
       "      <td>million tons</td>\n",
       "    </tr>\n",
       "    <tr>\n",
       "      <td>1</td>\n",
       "      <td>Water use</td>\n",
       "      <td>1.40</td>\n",
       "      <td>litre</td>\n",
       "      <td>kilolitre</td>\n",
       "      <td>megalitre</td>\n",
       "      <td>thousand megalitre</td>\n",
       "    </tr>\n",
       "    <tr>\n",
       "      <td>2</td>\n",
       "      <td>Ash produced</td>\n",
       "      <td>160.00</td>\n",
       "      <td>gram</td>\n",
       "      <td>kilogram</td>\n",
       "      <td>ton</td>\n",
       "      <td>thousand tons (kt)</td>\n",
       "    </tr>\n",
       "    <tr>\n",
       "      <td>3</td>\n",
       "      <td>Particulate emissions</td>\n",
       "      <td>0.22</td>\n",
       "      <td>gram</td>\n",
       "      <td>kilogram</td>\n",
       "      <td>ton</td>\n",
       "      <td>thousand tons (kt)</td>\n",
       "    </tr>\n",
       "    <tr>\n",
       "      <td>4</td>\n",
       "      <td>CO2 emissions</td>\n",
       "      <td>9786.00</td>\n",
       "      <td>kilogram</td>\n",
       "      <td>ton</td>\n",
       "      <td>thousand tons (kt)</td>\n",
       "      <td>million tons</td>\n",
       "    </tr>\n",
       "  </tbody>\n",
       "</table>\n",
       "</div>"
      ],
      "text/plain": [
       "    Environmental Factor   Factor       kWh        MWh                 GWh  \\\n",
       "0               Coal use     0.54  kilogram        ton  thousand tons (kt)   \n",
       "1              Water use     1.40     litre  kilolitre           megalitre   \n",
       "2           Ash produced   160.00      gram   kilogram                 ton   \n",
       "3  Particulate emissions     0.22      gram   kilogram                 ton   \n",
       "4          CO2 emissions  9786.00  kilogram        ton  thousand tons (kt)   \n",
       "\n",
       "                  TWh  \n",
       "0        million tons  \n",
       "1  thousand megalitre  \n",
       "2  thousand tons (kt)  \n",
       "3  thousand tons (kt)  \n",
       "4        million tons  "
      ]
     },
     "execution_count": 6,
     "metadata": {},
     "output_type": "execute_result"
    }
   ],
   "source": [
    "df.head()"
   ]
  },
  {
   "cell_type": "code",
   "execution_count": 23,
   "metadata": {},
   "outputs": [
    {
     "data": {
      "text/html": [
       "<div>\n",
       "<style scoped>\n",
       "    .dataframe tbody tr th:only-of-type {\n",
       "        vertical-align: middle;\n",
       "    }\n",
       "\n",
       "    .dataframe tbody tr th {\n",
       "        vertical-align: top;\n",
       "    }\n",
       "\n",
       "    .dataframe thead th {\n",
       "        text-align: right;\n",
       "    }\n",
       "</style>\n",
       "<table border=\"1\" class=\"dataframe\">\n",
       "  <thead>\n",
       "    <tr style=\"text-align: right;\">\n",
       "      <th></th>\n",
       "      <th>Environmental Factor</th>\n",
       "      <th>Factor</th>\n",
       "      <th>kWh</th>\n",
       "      <th>MWh</th>\n",
       "      <th>GWh</th>\n",
       "      <th>TWh</th>\n",
       "    </tr>\n",
       "  </thead>\n",
       "  <tbody>\n",
       "    <tr>\n",
       "      <td>0</td>\n",
       "      <td>Coal use</td>\n",
       "      <td>0.54</td>\n",
       "      <td>kilogram</td>\n",
       "      <td>ton</td>\n",
       "      <td>thousand tons (kt)</td>\n",
       "      <td>million tons</td>\n",
       "    </tr>\n",
       "    <tr>\n",
       "      <td>1</td>\n",
       "      <td>Water use</td>\n",
       "      <td>1.40</td>\n",
       "      <td>litre</td>\n",
       "      <td>kilolitre</td>\n",
       "      <td>megalitre</td>\n",
       "      <td>thousand megalitre</td>\n",
       "    </tr>\n",
       "    <tr>\n",
       "      <td>2</td>\n",
       "      <td>Ash produced</td>\n",
       "      <td>160.00</td>\n",
       "      <td>gram</td>\n",
       "      <td>kilogram</td>\n",
       "      <td>ton</td>\n",
       "      <td>thousand tons (kt)</td>\n",
       "    </tr>\n",
       "    <tr>\n",
       "      <td>3</td>\n",
       "      <td>Particulate emissions</td>\n",
       "      <td>0.22</td>\n",
       "      <td>gram</td>\n",
       "      <td>kilogram</td>\n",
       "      <td>ton</td>\n",
       "      <td>thousand tons (kt)</td>\n",
       "    </tr>\n",
       "    <tr>\n",
       "      <td>4</td>\n",
       "      <td>CO2 emissions</td>\n",
       "      <td>9786.00</td>\n",
       "      <td>kilogram</td>\n",
       "      <td>ton</td>\n",
       "      <td>thousand tons (kt)</td>\n",
       "      <td>million tons</td>\n",
       "    </tr>\n",
       "    <tr>\n",
       "      <td>5</td>\n",
       "      <td>SOx emissions</td>\n",
       "      <td>8463.00</td>\n",
       "      <td>gram</td>\n",
       "      <td>kilogram</td>\n",
       "      <td>ton</td>\n",
       "      <td>thousand tons (kt)</td>\n",
       "    </tr>\n",
       "    <tr>\n",
       "      <td>6</td>\n",
       "      <td>NOx emissions</td>\n",
       "      <td>4210.00</td>\n",
       "      <td>gram</td>\n",
       "      <td>kilogram</td>\n",
       "      <td>ton</td>\n",
       "      <td>thousand tons (kt)</td>\n",
       "    </tr>\n",
       "  </tbody>\n",
       "</table>\n",
       "</div>"
      ],
      "text/plain": [
       "    Environmental Factor   Factor       kWh        MWh                 GWh  \\\n",
       "0               Coal use     0.54  kilogram        ton  thousand tons (kt)   \n",
       "1              Water use     1.40     litre  kilolitre           megalitre   \n",
       "2           Ash produced   160.00      gram   kilogram                 ton   \n",
       "3  Particulate emissions     0.22      gram   kilogram                 ton   \n",
       "4          CO2 emissions  9786.00  kilogram        ton  thousand tons (kt)   \n",
       "5          SOx emissions  8463.00      gram   kilogram                 ton   \n",
       "6          NOx emissions  4210.00      gram   kilogram                 ton   \n",
       "\n",
       "                  TWh  \n",
       "0        million tons  \n",
       "1  thousand megalitre  \n",
       "2  thousand tons (kt)  \n",
       "3  thousand tons (kt)  \n",
       "4        million tons  \n",
       "5  thousand tons (kt)  \n",
       "6  thousand tons (kt)  "
      ]
     },
     "execution_count": 23,
     "metadata": {},
     "output_type": "execute_result"
    }
   ],
   "source": [
    "df.head(10)"
   ]
  },
  {
   "cell_type": "markdown",
   "metadata": {},
   "source": [
    "# Visualize the Stats from Eskom"
   ]
  },
  {
   "cell_type": "code",
   "execution_count": 87,
   "metadata": {},
   "outputs": [
    {
     "data": {
      "image/png": "[encoded data removed]",
      "text/plain": [
       "<Figure size 432x288 with 1 Axes>"
      ]
     },
     "metadata": {
      "needs_background": "light"
     },
     "output_type": "display_data"
    }
   ],
   "source": [
    "sns.barplot(x=df['Factor'] ,y=df['Environmental Factor'], hue=df['MWh'],data=df)\n",
    "plt.title(\"Environmental implications of using or saving one kilowatt-hour of electricity\")\n",
    "plt.show()"
   ]
  },
  {
   "cell_type": "code",
   "execution_count": 79,
   "metadata": {},
   "outputs": [
    {
     "ename": "TypeError",
     "evalue": "distplot() got an unexpected keyword argument 'data'",
     "output_type": "error",
     "traceback": [
      "\u001b[0;31m---------------------------------------------------------------------------\u001b[0m",
      "\u001b[0;31mTypeError\u001b[0m                                 Traceback (most recent call last)",
      "\u001b[0;32m<ipython-input-79-39ec55bf89c7>\u001b[0m in \u001b[0;36m<module>\u001b[0;34m\u001b[0m\n\u001b[0;32m----> 1\u001b[0;31m \u001b[0msns\u001b[0m\u001b[0;34m.\u001b[0m\u001b[0mdistplot\u001b[0m\u001b[0;34m(\u001b[0m\u001b[0mdata\u001b[0m\u001b[0;34m=\u001b[0m\u001b[0mdf\u001b[0m\u001b[0;34m)\u001b[0m\u001b[0;34m\u001b[0m\u001b[0;34m\u001b[0m\u001b[0m\n\u001b[0m",
      "\u001b[0;31mTypeError\u001b[0m: distplot() got an unexpected keyword argument 'data'"
     ]
    }
   ],
   "source": []
  },
  {
   "cell_type": "code",
   "execution_count": null,
   "metadata": {},
   "outputs": [],
   "source": []
  }
 ],
 "metadata": {
  "kernelspec": {
   "display_name": "Python 3",
   "language": "python",
   "name": "python3"
  },
  "language_info": {
   "codemirror_mode": {
    "name": "ipython",
    "version": 3
   },
   "file_extension": ".py",
   "mimetype": "text/x-python",
   "name": "python",
   "nbconvert_exporter": "python",
   "pygments_lexer": "ipython3",
   "version": "3.7.4"
  }
 },
 "nbformat": 4,
 "nbformat_minor": 2
}
